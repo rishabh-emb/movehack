{
 "cells": [
  {
   "cell_type": "code",
   "execution_count": 1,
   "metadata": {},
   "outputs": [],
   "source": [
    "import pandas as pd"
   ]
  },
  {
   "cell_type": "code",
   "execution_count": 2,
   "metadata": {},
   "outputs": [],
   "source": [
    "ahmedabad_driver_data = pd.read_csv(\"Events Report of Drivers in Ahmedabad_16-07 to 31-07.csv\")"
   ]
  },
  {
   "cell_type": "code",
   "execution_count": null,
   "metadata": {},
   "outputs": [],
   "source": [
    "ahmedabad_driver_data.head()"
   ]
  },
  {
   "cell_type": "code",
   "execution_count": null,
   "metadata": {},
   "outputs": [],
   "source": [
    "ahmedabad_driver_data.info()"
   ]
  },
  {
   "cell_type": "markdown",
   "metadata": {},
   "source": [
    "## Check if the current point lies in the danzer zone"
   ]
  },
  {
   "cell_type": "code",
   "execution_count": 3,
   "metadata": {},
   "outputs": [],
   "source": [
    "from math import radians, cos, sin, asin, sqrt\n",
    "\n",
    "def haversine(long1, lat1, long2, lat2):\n",
    "    \"\"\"\n",
    "    Calculate the great circle distance between two points \n",
    "    on the earth (specified in decimal degrees)\n",
    "    \"\"\"\n",
    "    # convert decimal degrees to radians \n",
    "    long1, lat1, long2, lat2 = map(radians, [long1, lat1, long2, lat2])\n",
    "\n",
    "    # haversine formula \n",
    "    dlong = long2 - long1 \n",
    "    dlat = lat2 - lat1 \n",
    "    a = sin(dlat/2)**2 + cos(lat1) * cos(lat2) * sin(dlong/2)**2\n",
    "    c = 2 * asin(sqrt(a)) \n",
    "    r = 6371 # Radius of earth in kilometers.\n",
    "    return c * r"
   ]
  },
  {
   "cell_type": "markdown",
   "metadata": {},
   "source": [
    "## Harsh Braking Radius\n",
    "##### 30mt"
   ]
  },
  {
   "cell_type": "code",
   "execution_count": 4,
   "metadata": {},
   "outputs": [],
   "source": [
    "ahmedabad_driver_data_harsh = ahmedabad_driver_data[ahmedabad_driver_data[\"Event Name\"] == \"Harsh Braking\"]\n",
    "ahmedabad_driver_data_harsh.reset_index(drop=True, inplace=True)"
   ]
  },
  {
   "cell_type": "code",
   "execution_count": null,
   "metadata": {},
   "outputs": [],
   "source": [
    "ahmedabad_driver_data_harsh.groupby(\"Route Name\").count()"
   ]
  },
  {
   "cell_type": "markdown",
   "metadata": {},
   "source": [
    "#### Sample route"
   ]
  },
  {
   "cell_type": "code",
   "execution_count": 5,
   "metadata": {},
   "outputs": [],
   "source": [
    "ahmedabad_driver_data_harsh_smaple = ahmedabad_driver_data_harsh[ahmedabad_driver_data_harsh[\"Route Name\"] == \n",
    "                                                            \"11D_Odhav Ring Road - M J Library_NORMAL\"]\n",
    "ahmedabad_driver_data_harsh_smaple.reset_index(drop=True, inplace=True)"
   ]
  },
  {
   "cell_type": "code",
   "execution_count": 6,
   "metadata": {},
   "outputs": [
    {
     "data": {
      "text/plain": [
       "(793, 10)"
      ]
     },
     "execution_count": 6,
     "metadata": {},
     "output_type": "execute_result"
    }
   ],
   "source": [
    "ahmedabad_driver_data_harsh_smaple.shape"
   ]
  },
  {
   "cell_type": "code",
   "execution_count": null,
   "metadata": {},
   "outputs": [],
   "source": [
    "ahmedabad_driver_data_harsh_smaple = ahmedabad_driver_data_harsh_smaple.iloc[:100, :]"
   ]
  },
  {
   "cell_type": "code",
   "execution_count": null,
   "metadata": {},
   "outputs": [],
   "source": [
    "t_harsh_braking_df_test = ahmedabad_driver_data_harsh_smaple[[\"Bus no.\", \"Event Time\", \"Latitude\", \"Longitude\"]]\n",
    "t_harsh_braking_df_test = t_harsh_braking_df_test.reindex(columns=t_harsh_braking_df_test.columns.tolist() + \n",
    "                                                [\"count\", \"count_unique_bus\", \"count_current_bus\"])"
   ]
  },
  {
   "cell_type": "code",
   "execution_count": 7,
   "metadata": {},
   "outputs": [],
   "source": [
    "def cal(dataset):\n",
    "    global t_harsh_braking, t_harsh_braking_unique_bus, t_harsh_braking_current_bus,\\\n",
    "           count, count_unique_bus, count_current_bus, center_point\n",
    "        \n",
    "    center = {\"Latitude\": dataset[8], \"Longitude\": dataset[9], \"Bus no.\": dataset[4], \"Event Time\": dataset[1]}\n",
    "    center_point = {'lat': center[\"Latitude\"], 'long': center[\"Longitude\"]}\n",
    "    \n",
    "    bus_no = center[\"Bus no.\"]\n",
    "    event_time = center[\"Event Time\"]\n",
    "    coordinates = ', '.join(map(str, center_point.values()))\n",
    "    count = 0\n",
    "    count_unique_bus = 0\n",
    "    count_current_bus = 0\n",
    "    bus_nos = [center[\"Bus no.\"]]\n",
    "    \n",
    "    def calc(dataset):\n",
    "        global count, count_unique_bus, count_current_bus, center_point\n",
    "        test = {\"Latitude\": dataset[8], \"Longitude\": dataset[9], \"Bus no.\": dataset[4]}\n",
    "        test_point = {'lat': test[\"Latitude\"], 'long': test[\"Longitude\"]}\n",
    "\n",
    "        lat1 = center_point['lat']\n",
    "        long1 = center_point['long']\n",
    "        lat2 = test_point['lat']\n",
    "        long2 = test_point['long']\n",
    "\n",
    "        radius = 0.030 # in kilometer\n",
    "        a = haversine(long1, lat1, long2, lat2)\n",
    "\n",
    "        if a <= radius:\n",
    "            count += 1\n",
    "            if test[\"Bus no.\"] not in bus_nos:\n",
    "                bus_nos.append(dataset[4])\n",
    "                count_unique_bus += 1\n",
    "            if test[\"Bus no.\"] == center[\"Bus no.\"]:\n",
    "                count_current_bus += 1\n",
    "    \n",
    "    ahmedabad_driver_data_harsh_smaple.apply(calc, axis=1)\n",
    "    \n",
    "    \n",
    "#     t_harsh_braking[\"bus_no\"].append(bus_no)\n",
    "#     t_harsh_braking[\"event_time\"].append(event_time)    \n",
    "#     t_harsh_braking[\"coordinates\"].append(coordinates)    \n",
    "#     t_harsh_braking[\"count\"].append(count)  \n",
    "    \n",
    "#     t_harsh_braking_unique_bus[\"bus_no\"].append(bus_no)\n",
    "#     t_harsh_braking_unique_bus[\"event_time\"].append(event_time)    \n",
    "#     t_harsh_braking_unique_bus[\"coordinates\"].append(coordinates)    \n",
    "#     t_harsh_braking_unique_bus[\"count\"].append(count_unique_bus)  \n",
    "    \n",
    "#     t_harsh_braking_current_bus[\"bus_no\"].append(bus_no)\n",
    "#     t_harsh_braking_current_bus[\"event_time\"].append(event_time)    \n",
    "#     t_harsh_braking_current_bus[\"coordinates\"].append(coordinates)    \n",
    "#     t_harsh_braking_current_bus[\"count\"].append(count_current_bus)    \n",
    "    \n",
    "    return [count, count_unique_bus, count_current_bus]"
   ]
  },
  {
   "cell_type": "code",
   "execution_count": 8,
   "metadata": {
    "scrolled": true
   },
   "outputs": [],
   "source": [
    "t_harsh_braking_df_test[[\"count\", \"count_unique_bus\", \"count_current_bus\"]] = ahmedabad_driver_data_harsh_smaple.\\\n",
    "                                                                              apply(cal, axis=1).tolist()"
   ]
  },
  {
   "cell_type": "code",
   "execution_count": null,
   "metadata": {},
   "outputs": [],
   "source": [
    "# t_harsh_braking = {\"bus_no\": [], \"event_time\": [], \"coordinates\": [], \"count\": []}\n",
    "# t_harsh_braking_unique_bus = {\"bus_no\": [], \"event_time\": [], \"coordinates\": [], \"count\": []}\n",
    "# t_harsh_braking_current_bus = {\"bus_no\": [], \"event_time\": [], \"coordinates\": [], \"count\": []}\n",
    "\n",
    "# # ahmedabad_driver_data_harsh_smaple.apply(cal, axis=1)\n",
    "# print(\"done\")"
   ]
  },
  {
   "cell_type": "code",
   "execution_count": null,
   "metadata": {},
   "outputs": [],
   "source": [
    "# t_harsh_braking_df = pd.DataFrame(t_harsh_braking, \n",
    "#                                   columns=[\"bus_no\", \"event_time\", \"coordinates\", \"count\"])\n",
    "# t_harsh_braking_unique_bus_df = pd.DataFrame(t_harsh_braking_unique_bus, \n",
    "#                                   columns=[\"bus_no\", \"event_time\", \"coordinates\", \"count\"])\n",
    "# t_harsh_braking_current_bus_df = pd.DataFrame(t_harsh_braking_current_bus, \n",
    "#                                   columns=[\"bus_no\", \"event_time\", \"coordinates\", \"count\"])"
   ]
  },
  {
   "cell_type": "code",
   "execution_count": null,
   "metadata": {},
   "outputs": [],
   "source": [
    "t_harsh_braking_df_test.to_csv(\"Total_harsh_braking.csv\", index=False)"
   ]
  },
  {
   "cell_type": "code",
   "execution_count": null,
   "metadata": {},
   "outputs": [],
   "source": [
    "t_harsh_braking_df.to_csv(\"Total_harsh_braking.csv\", index=False)\n",
    "t_harsh_braking_unique_bus_df.to_csv(\"Total_harsh_braking_with_unique_bus.csv\", index=False)\n",
    "t_harsh_braking_current_bus_df.to_csv(\"Total_harsh_braking_current_bus.csv\", index=False)"
   ]
  }
 ],
 "metadata": {
  "kernelspec": {
   "display_name": "Python 3",
   "language": "python",
   "name": "python3"
  },
  "language_info": {
   "codemirror_mode": {
    "name": "ipython",
    "version": 3
   },
   "file_extension": ".py",
   "mimetype": "text/x-python",
   "name": "python",
   "nbconvert_exporter": "python",
   "pygments_lexer": "ipython3",
   "version": "3.6.4"
  }
 },
 "nbformat": 4,
 "nbformat_minor": 2
}
