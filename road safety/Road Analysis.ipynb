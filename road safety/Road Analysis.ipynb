{
 "cells": [
  {
   "cell_type": "code",
   "execution_count": 2,
   "metadata": {},
   "outputs": [],
   "source": [
    "import pandas as pd"
   ]
  },
  {
   "cell_type": "code",
   "execution_count": 3,
   "metadata": {},
   "outputs": [],
   "source": [
    "harsh_braking_data = pd.read_csv(\"Total_harsh_braking.csv\")"
   ]
  },
  {
   "cell_type": "code",
   "execution_count": 4,
   "metadata": {
    "scrolled": true
   },
   "outputs": [
    {
     "data": {
      "text/html": [
       "<div>\n",
       "<style scoped>\n",
       "    .dataframe tbody tr th:only-of-type {\n",
       "        vertical-align: middle;\n",
       "    }\n",
       "\n",
       "    .dataframe tbody tr th {\n",
       "        vertical-align: top;\n",
       "    }\n",
       "\n",
       "    .dataframe thead th {\n",
       "        text-align: right;\n",
       "    }\n",
       "</style>\n",
       "<table border=\"1\" class=\"dataframe\">\n",
       "  <thead>\n",
       "    <tr style=\"text-align: right;\">\n",
       "      <th></th>\n",
       "      <th>Bus no.</th>\n",
       "      <th>Event Time</th>\n",
       "      <th>Latitude</th>\n",
       "      <th>Longitude</th>\n",
       "      <th>count</th>\n",
       "      <th>count_unique_bus</th>\n",
       "      <th>count_current_bus</th>\n",
       "    </tr>\n",
       "  </thead>\n",
       "  <tbody>\n",
       "    <tr>\n",
       "      <th>197375</th>\n",
       "      <td>27</td>\n",
       "      <td>31.07.2018 23:41:24</td>\n",
       "      <td>23.064428</td>\n",
       "      <td>72.642440</td>\n",
       "      <td>10</td>\n",
       "      <td>5</td>\n",
       "      <td>4</td>\n",
       "    </tr>\n",
       "    <tr>\n",
       "      <th>197376</th>\n",
       "      <td>27</td>\n",
       "      <td>31.07.2018 23:41:28</td>\n",
       "      <td>23.064428</td>\n",
       "      <td>72.642440</td>\n",
       "      <td>10</td>\n",
       "      <td>5</td>\n",
       "      <td>4</td>\n",
       "    </tr>\n",
       "    <tr>\n",
       "      <th>197377</th>\n",
       "      <td>27</td>\n",
       "      <td>31.07.2018 23:44:46</td>\n",
       "      <td>23.064428</td>\n",
       "      <td>72.642440</td>\n",
       "      <td>10</td>\n",
       "      <td>5</td>\n",
       "      <td>4</td>\n",
       "    </tr>\n",
       "    <tr>\n",
       "      <th>197378</th>\n",
       "      <td>205</td>\n",
       "      <td>31.07.2018 23:44:57</td>\n",
       "      <td>23.068625</td>\n",
       "      <td>72.582002</td>\n",
       "      <td>33</td>\n",
       "      <td>11</td>\n",
       "      <td>1</td>\n",
       "    </tr>\n",
       "    <tr>\n",
       "      <th>197379</th>\n",
       "      <td>24</td>\n",
       "      <td>31.07.2018 23:57:25</td>\n",
       "      <td>23.129200</td>\n",
       "      <td>72.584464</td>\n",
       "      <td>63</td>\n",
       "      <td>12</td>\n",
       "      <td>3</td>\n",
       "    </tr>\n",
       "  </tbody>\n",
       "</table>\n",
       "</div>"
      ],
      "text/plain": [
       "        Bus no.           Event Time   Latitude  Longitude  count  \\\n",
       "197375       27  31.07.2018 23:41:24  23.064428  72.642440     10   \n",
       "197376       27  31.07.2018 23:41:28  23.064428  72.642440     10   \n",
       "197377       27  31.07.2018 23:44:46  23.064428  72.642440     10   \n",
       "197378      205  31.07.2018 23:44:57  23.068625  72.582002     33   \n",
       "197379       24  31.07.2018 23:57:25  23.129200  72.584464     63   \n",
       "\n",
       "        count_unique_bus  count_current_bus  \n",
       "197375                 5                  4  \n",
       "197376                 5                  4  \n",
       "197377                 5                  4  \n",
       "197378                11                  1  \n",
       "197379                12                  3  "
      ]
     },
     "execution_count": 4,
     "metadata": {},
     "output_type": "execute_result"
    }
   ],
   "source": [
    "harsh_braking_data.tail()"
   ]
  },
  {
   "cell_type": "code",
   "execution_count": 5,
   "metadata": {},
   "outputs": [],
   "source": [
    "ahmedabad_data = pd.read_csv(\"Events Report of Drivers in Ahmedabad_16-07 to 31-07.csv\")\n",
    "ahmedabad_driver_data_harsh = ahmedabad_data[ahmedabad_data[\"Event Name\"] == \"Harsh Braking\"]\n",
    "ahmedabad_driver_data_harsh.reset_index(drop=True, inplace=True)"
   ]
  },
  {
   "cell_type": "code",
   "execution_count": 6,
   "metadata": {},
   "outputs": [
    {
     "data": {
      "text/html": [
       "<div>\n",
       "<style scoped>\n",
       "    .dataframe tbody tr th:only-of-type {\n",
       "        vertical-align: middle;\n",
       "    }\n",
       "\n",
       "    .dataframe tbody tr th {\n",
       "        vertical-align: top;\n",
       "    }\n",
       "\n",
       "    .dataframe thead th {\n",
       "        text-align: right;\n",
       "    }\n",
       "</style>\n",
       "<table border=\"1\" class=\"dataframe\">\n",
       "  <thead>\n",
       "    <tr style=\"text-align: right;\">\n",
       "      <th></th>\n",
       "      <th>Event Name</th>\n",
       "      <th>Event Time</th>\n",
       "      <th>Event Value (Upper limit =51km/h)</th>\n",
       "      <th>Event Unit</th>\n",
       "      <th>Bus no.</th>\n",
       "      <th>Route Name</th>\n",
       "      <th>Stop Code</th>\n",
       "      <th>Stop Name</th>\n",
       "      <th>Latitude</th>\n",
       "      <th>Longitude</th>\n",
       "    </tr>\n",
       "  </thead>\n",
       "  <tbody>\n",
       "    <tr>\n",
       "      <th>197375</th>\n",
       "      <td>Harsh Braking</td>\n",
       "      <td>31.07.2018 23:41:24</td>\n",
       "      <td>0.451</td>\n",
       "      <td>m/s2</td>\n",
       "      <td>27</td>\n",
       "      <td>8U_Iskcon - Naroda Gam_NORMAL</td>\n",
       "      <td>313</td>\n",
       "      <td>Naroda S. T. Workshop</td>\n",
       "      <td>23.064428</td>\n",
       "      <td>72.642440</td>\n",
       "    </tr>\n",
       "    <tr>\n",
       "      <th>197376</th>\n",
       "      <td>Harsh Braking</td>\n",
       "      <td>31.07.2018 23:41:28</td>\n",
       "      <td>0.298</td>\n",
       "      <td>m/s2</td>\n",
       "      <td>27</td>\n",
       "      <td>8U_Iskcon - Naroda Gam_NORMAL</td>\n",
       "      <td>313</td>\n",
       "      <td>Naroda S. T. Workshop</td>\n",
       "      <td>23.064428</td>\n",
       "      <td>72.642440</td>\n",
       "    </tr>\n",
       "    <tr>\n",
       "      <th>197377</th>\n",
       "      <td>Harsh Braking</td>\n",
       "      <td>31.07.2018 23:44:46</td>\n",
       "      <td>0.322</td>\n",
       "      <td>m/s2</td>\n",
       "      <td>27</td>\n",
       "      <td>8U_Iskcon - Naroda Gam_NORMAL</td>\n",
       "      <td>313</td>\n",
       "      <td>Naroda S. T. Workshop</td>\n",
       "      <td>23.064428</td>\n",
       "      <td>72.642440</td>\n",
       "    </tr>\n",
       "    <tr>\n",
       "      <th>197378</th>\n",
       "      <td>Harsh Braking</td>\n",
       "      <td>31.07.2018 23:44:57</td>\n",
       "      <td>0.442</td>\n",
       "      <td>m/s2</td>\n",
       "      <td>205</td>\n",
       "      <td>101_R.T.O(Circular)_NORMAL</td>\n",
       "      <td>4</td>\n",
       "      <td>Ranip Cross Road</td>\n",
       "      <td>23.068625</td>\n",
       "      <td>72.582002</td>\n",
       "    </tr>\n",
       "    <tr>\n",
       "      <th>197379</th>\n",
       "      <td>Harsh Braking</td>\n",
       "      <td>31.07.2018 23:57:25</td>\n",
       "      <td>0.548</td>\n",
       "      <td>m/s2</td>\n",
       "      <td>24</td>\n",
       "      <td>7U_Zundal Circle - Narol_NORMAL</td>\n",
       "      <td>253</td>\n",
       "      <td>DCIS Circle</td>\n",
       "      <td>23.129200</td>\n",
       "      <td>72.584464</td>\n",
       "    </tr>\n",
       "  </tbody>\n",
       "</table>\n",
       "</div>"
      ],
      "text/plain": [
       "           Event Name           Event Time  Event Value (Upper limit =51km/h)  \\\n",
       "197375  Harsh Braking  31.07.2018 23:41:24                              0.451   \n",
       "197376  Harsh Braking  31.07.2018 23:41:28                              0.298   \n",
       "197377  Harsh Braking  31.07.2018 23:44:46                              0.322   \n",
       "197378  Harsh Braking  31.07.2018 23:44:57                              0.442   \n",
       "197379  Harsh Braking  31.07.2018 23:57:25                              0.548   \n",
       "\n",
       "       Event Unit  Bus no.                       Route Name  Stop Code  \\\n",
       "197375       m/s2       27    8U_Iskcon - Naroda Gam_NORMAL        313   \n",
       "197376       m/s2       27    8U_Iskcon - Naroda Gam_NORMAL        313   \n",
       "197377       m/s2       27    8U_Iskcon - Naroda Gam_NORMAL        313   \n",
       "197378       m/s2      205       101_R.T.O(Circular)_NORMAL          4   \n",
       "197379       m/s2       24  7U_Zundal Circle - Narol_NORMAL        253   \n",
       "\n",
       "                    Stop Name   Latitude  Longitude  \n",
       "197375  Naroda S. T. Workshop  23.064428  72.642440  \n",
       "197376  Naroda S. T. Workshop  23.064428  72.642440  \n",
       "197377  Naroda S. T. Workshop  23.064428  72.642440  \n",
       "197378       Ranip Cross Road  23.068625  72.582002  \n",
       "197379            DCIS Circle  23.129200  72.584464  "
      ]
     },
     "execution_count": 6,
     "metadata": {},
     "output_type": "execute_result"
    }
   ],
   "source": [
    "ahmedabad_driver_data_harsh.tail()"
   ]
  },
  {
   "cell_type": "code",
   "execution_count": 7,
   "metadata": {},
   "outputs": [],
   "source": [
    "harsh_braking_data = harsh_braking_data.merge(\n",
    "    ahmedabad_driver_data_harsh[[\"Event Time\", \"Bus no.\", \"Latitude\", \"Longitude\", \"Route Name\"]],\n",
    "    on=[\"Bus no.\", \"Event Time\", \"Latitude\", \"Longitude\"])"
   ]
  },
  {
   "cell_type": "code",
   "execution_count": 8,
   "metadata": {
    "scrolled": false
   },
   "outputs": [
    {
     "data": {
      "text/html": [
       "<div>\n",
       "<style scoped>\n",
       "    .dataframe tbody tr th:only-of-type {\n",
       "        vertical-align: middle;\n",
       "    }\n",
       "\n",
       "    .dataframe tbody tr th {\n",
       "        vertical-align: top;\n",
       "    }\n",
       "\n",
       "    .dataframe thead th {\n",
       "        text-align: right;\n",
       "    }\n",
       "</style>\n",
       "<table border=\"1\" class=\"dataframe\">\n",
       "  <thead>\n",
       "    <tr style=\"text-align: right;\">\n",
       "      <th></th>\n",
       "      <th>count</th>\n",
       "      <th>count_unique_bus</th>\n",
       "      <th>count_current_bus</th>\n",
       "    </tr>\n",
       "  </thead>\n",
       "  <tbody>\n",
       "    <tr>\n",
       "      <th>count</th>\n",
       "      <td>191092.000000</td>\n",
       "      <td>191092.000000</td>\n",
       "      <td>191092.000000</td>\n",
       "    </tr>\n",
       "    <tr>\n",
       "      <th>mean</th>\n",
       "      <td>128.651848</td>\n",
       "      <td>8.999451</td>\n",
       "      <td>81.984002</td>\n",
       "    </tr>\n",
       "    <tr>\n",
       "      <th>std</th>\n",
       "      <td>202.099982</td>\n",
       "      <td>7.411995</td>\n",
       "      <td>193.830726</td>\n",
       "    </tr>\n",
       "    <tr>\n",
       "      <th>min</th>\n",
       "      <td>1.000000</td>\n",
       "      <td>0.000000</td>\n",
       "      <td>1.000000</td>\n",
       "    </tr>\n",
       "    <tr>\n",
       "      <th>25%</th>\n",
       "      <td>31.000000</td>\n",
       "      <td>3.000000</td>\n",
       "      <td>5.000000</td>\n",
       "    </tr>\n",
       "    <tr>\n",
       "      <th>50%</th>\n",
       "      <td>77.000000</td>\n",
       "      <td>8.000000</td>\n",
       "      <td>16.000000</td>\n",
       "    </tr>\n",
       "    <tr>\n",
       "      <th>75%</th>\n",
       "      <td>135.000000</td>\n",
       "      <td>14.000000</td>\n",
       "      <td>72.000000</td>\n",
       "    </tr>\n",
       "    <tr>\n",
       "      <th>max</th>\n",
       "      <td>1559.000000</td>\n",
       "      <td>31.000000</td>\n",
       "      <td>1485.000000</td>\n",
       "    </tr>\n",
       "  </tbody>\n",
       "</table>\n",
       "</div>"
      ],
      "text/plain": [
       "               count  count_unique_bus  count_current_bus\n",
       "count  191092.000000     191092.000000      191092.000000\n",
       "mean      128.651848          8.999451          81.984002\n",
       "std       202.099982          7.411995         193.830726\n",
       "min         1.000000          0.000000           1.000000\n",
       "25%        31.000000          3.000000           5.000000\n",
       "50%        77.000000          8.000000          16.000000\n",
       "75%       135.000000         14.000000          72.000000\n",
       "max      1559.000000         31.000000        1485.000000"
      ]
     },
     "execution_count": 8,
     "metadata": {},
     "output_type": "execute_result"
    }
   ],
   "source": [
    "harsh_braking_data[[\"count\", \"count_unique_bus\", \"count_current_bus\"]].describe()"
   ]
  },
  {
   "cell_type": "code",
   "execution_count": 9,
   "metadata": {},
   "outputs": [
    {
     "data": {
      "text/plain": [
       "({10: 40580,\n",
       "  20: 63894,\n",
       "  30: 81324,\n",
       "  40: 93870,\n",
       "  50: 101640,\n",
       "  60: 110958,\n",
       "  70: 118188,\n",
       "  80: 125686,\n",
       "  90: 138595,\n",
       "  100: 170652},\n",
       " {10: 150512,\n",
       "  20: 127198,\n",
       "  30: 109768,\n",
       "  40: 97222,\n",
       "  50: 89452,\n",
       "  60: 80134,\n",
       "  70: 72904,\n",
       "  80: 65406,\n",
       "  90: 52497,\n",
       "  100: 20440})"
      ]
     },
     "execution_count": 9,
     "metadata": {},
     "output_type": "execute_result"
    }
   ],
   "source": [
    "count = {}\n",
    "count_upper = {}\n",
    "def cal(dataset):\n",
    "    global count, count_upper\n",
    "    for i in range(10, 101, 10):\n",
    "        val = (dataset[6]*100)/dataset[4]\n",
    "        if val < i:\n",
    "            count[i] = count.get(i, 0) + 1\n",
    "        else:\n",
    "            count_upper[i] = count_upper.get(i, 0) + 1\n",
    "harsh_braking_data.apply(cal, axis=1)\n",
    "count, count_upper"
   ]
  },
  {
   "cell_type": "code",
   "execution_count": 10,
   "metadata": {
    "scrolled": false
   },
   "outputs": [
    {
     "data": {
      "text/plain": [
       "count                18685\n",
       "count_unique_bus     18685\n",
       "count_current_bus    18685\n",
       "dtype: int64"
      ]
     },
     "execution_count": 10,
     "metadata": {},
     "output_type": "execute_result"
    }
   ],
   "source": [
    "harsh_braking_data[harsh_braking_data[\"count\"] <= 10][[\"count\", \"count_unique_bus\", \"count_current_bus\"]].count()"
   ]
  },
  {
   "cell_type": "code",
   "execution_count": 11,
   "metadata": {},
   "outputs": [
    {
     "name": "stdout",
     "output_type": "stream",
     "text": [
      "done\n"
     ]
    }
   ],
   "source": [
    "danger = {\"lat\": [], \"long\": [], \"route\":[]}\n",
    "def danger_cal(dataset):\n",
    "    global danger\n",
    "    if dataset[4] > 10 and dataset[5] > 1 and ((dataset[6]*100)/dataset[4] < (100 - dataset[5]*10)):\n",
    "        danger[\"lat\"].append(dataset[2])\n",
    "        danger[\"long\"].append(dataset[3])\n",
    "        danger[\"route\"].append(dataset[7])        \n",
    "        \n",
    "harsh_braking_data.apply(danger_cal, axis=1)\n",
    "print(\"done\")"
   ]
  },
  {
   "cell_type": "code",
   "execution_count": 12,
   "metadata": {
    "scrolled": true
   },
   "outputs": [],
   "source": [
    "danger_zone = pd.DataFrame(danger)"
   ]
  },
  {
   "cell_type": "code",
   "execution_count": 97,
   "metadata": {},
   "outputs": [],
   "source": [
    "# 30mt danger zone\n",
    "danger_zone.to_csv(\"danzer_zone_30_mt.csv\", index=False)"
   ]
  },
  {
   "cell_type": "markdown",
   "metadata": {},
   "source": [
    "## Plot zones on map"
   ]
  },
  {
   "cell_type": "code",
   "execution_count": 13,
   "metadata": {},
   "outputs": [],
   "source": [
    "data = danger_zone[danger_zone[\"route\"] == \"9S_Bhavsar Hostel - Gota Cross Road_NORMAL\"].reset_index(drop=True)"
   ]
  },
  {
   "cell_type": "code",
   "execution_count": 14,
   "metadata": {},
   "outputs": [
    {
     "data": {
      "text/html": [
       "<div>\n",
       "<style scoped>\n",
       "    .dataframe tbody tr th:only-of-type {\n",
       "        vertical-align: middle;\n",
       "    }\n",
       "\n",
       "    .dataframe tbody tr th {\n",
       "        vertical-align: top;\n",
       "    }\n",
       "\n",
       "    .dataframe thead th {\n",
       "        text-align: right;\n",
       "    }\n",
       "</style>\n",
       "<table border=\"1\" class=\"dataframe\">\n",
       "  <thead>\n",
       "    <tr style=\"text-align: right;\">\n",
       "      <th></th>\n",
       "      <th>lat</th>\n",
       "      <th>long</th>\n",
       "      <th>route</th>\n",
       "    </tr>\n",
       "  </thead>\n",
       "  <tbody>\n",
       "    <tr>\n",
       "      <th>62</th>\n",
       "      <td>23.062253</td>\n",
       "      <td>72.553069</td>\n",
       "      <td>9S_Bhavsar Hostel - Gota Cross Road_NORMAL</td>\n",
       "    </tr>\n",
       "    <tr>\n",
       "      <th>63</th>\n",
       "      <td>23.062867</td>\n",
       "      <td>72.532757</td>\n",
       "      <td>9S_Bhavsar Hostel - Gota Cross Road_NORMAL</td>\n",
       "    </tr>\n",
       "    <tr>\n",
       "      <th>64</th>\n",
       "      <td>23.082037</td>\n",
       "      <td>72.526696</td>\n",
       "      <td>9S_Bhavsar Hostel - Gota Cross Road_NORMAL</td>\n",
       "    </tr>\n",
       "    <tr>\n",
       "      <th>65</th>\n",
       "      <td>23.062228</td>\n",
       "      <td>72.553039</td>\n",
       "      <td>9S_Bhavsar Hostel - Gota Cross Road_NORMAL</td>\n",
       "    </tr>\n",
       "    <tr>\n",
       "      <th>66</th>\n",
       "      <td>23.057647</td>\n",
       "      <td>72.539115</td>\n",
       "      <td>9S_Bhavsar Hostel - Gota Cross Road_NORMAL</td>\n",
       "    </tr>\n",
       "  </tbody>\n",
       "</table>\n",
       "</div>"
      ],
      "text/plain": [
       "          lat       long                                       route\n",
       "62  23.062253  72.553069  9S_Bhavsar Hostel - Gota Cross Road_NORMAL\n",
       "63  23.062867  72.532757  9S_Bhavsar Hostel - Gota Cross Road_NORMAL\n",
       "64  23.082037  72.526696  9S_Bhavsar Hostel - Gota Cross Road_NORMAL\n",
       "65  23.062228  72.553039  9S_Bhavsar Hostel - Gota Cross Road_NORMAL\n",
       "66  23.057647  72.539115  9S_Bhavsar Hostel - Gota Cross Road_NORMAL"
      ]
     },
     "execution_count": 14,
     "metadata": {},
     "output_type": "execute_result"
    }
   ],
   "source": [
    "data.tail()"
   ]
  },
  {
   "cell_type": "code",
   "execution_count": 15,
   "metadata": {},
   "outputs": [],
   "source": [
    "from math import radians, cos, sin, asin, sqrt\n",
    "\n",
    "def haversine(long1, lat1, long2, lat2):\n",
    "    \"\"\"\n",
    "    Calculate the great circle distance between two points \n",
    "    on the earth (specified in decimal degrees)\n",
    "    \"\"\"\n",
    "    # convert decimal degrees to radians \n",
    "    long1, lat1, long2, lat2 = map(radians, [long1, lat1, long2, lat2])\n",
    "\n",
    "    # haversine formula \n",
    "    dlong = long2 - long1 \n",
    "    dlat = lat2 - lat1 \n",
    "    a = sin(dlat/2)**2 + cos(lat1) * cos(lat2) * sin(dlong/2)**2\n",
    "    c = 2 * asin(sqrt(a)) \n",
    "    r = 6371 # Radius of earth in kilometers.\n",
    "    return c * r"
   ]
  },
  {
   "cell_type": "code",
   "execution_count": 36,
   "metadata": {},
   "outputs": [],
   "source": [
    "import gmplot\n",
    "gmap = gmplot.GoogleMapPlotter(data[\"lat\"][0], data[\"long\"][0], 16)\n",
    "\n",
    "\n",
    "# gmap.plot(data[\"lat\"], data[\"long\"], 'cornflowerblue', edge_width=8)\n",
    "\n",
    "gmap.heatmap(data[\"lat\"], data[\"long\"], opacity=1, radius=15)\n",
    "for i in range(len(data)):\n",
    "    radius = 0.500 # in kilometer\n",
    "    a = 0\n",
    "    if i != len(data)-1:\n",
    "        for j in range(len(data)):\n",
    "            a = haversine(data[\"long\"][i], data[\"lat\"][i], data[\"long\"][j], data[\"lat\"][j])\n",
    "            if a <= radius:\n",
    "                continue\n",
    "    gmap.marker(data[\"lat\"][i], data[\"long\"][i], 'red', title=\"Danger Zone\")\n",
    "    gmap.circle(data[\"lat\"][i], data[\"long\"][i], radius=15, color=\"red\", opacity=0)\n",
    "\n",
    "gmap.draw(\"mymap.html\")"
   ]
  },
  {
   "cell_type": "code",
   "execution_count": null,
   "metadata": {},
   "outputs": [],
   "source": []
  }
 ],
 "metadata": {
  "kernelspec": {
   "display_name": "Python 3",
   "language": "python",
   "name": "python3"
  },
  "language_info": {
   "codemirror_mode": {
    "name": "ipython",
    "version": 3
   },
   "file_extension": ".py",
   "mimetype": "text/x-python",
   "name": "python",
   "nbconvert_exporter": "python",
   "pygments_lexer": "ipython3",
   "version": "3.6.4"
  }
 },
 "nbformat": 4,
 "nbformat_minor": 2
}
